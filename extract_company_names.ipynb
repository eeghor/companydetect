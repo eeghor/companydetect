{
 "cells": [
  {
   "cell_type": "code",
   "execution_count": 28,
   "metadata": {
    "collapsed": true
   },
   "outputs": [],
   "source": [
    "import xml.etree.ElementTree as et\n",
    "from collections import defaultdict\n",
    "import json\n",
    "import os\n",
    "import sys"
   ]
  },
  {
   "cell_type": "code",
   "execution_count": 29,
   "metadata": {},
   "outputs": [],
   "source": [
    "ABN_DIR = \"ABN_data\"\n",
    "abn_xml_files = [ABN_DIR + \"/\" + f for f in os.listdir(\"ABN_data\")]\n",
    "total_files = len(abn_xml_files)"
   ]
  },
  {
   "cell_type": "code",
   "execution_count": 30,
   "metadata": {},
   "outputs": [
    {
     "name": "stdout",
     "output_type": "stream",
     "text": [
      "processing file 1/20\n",
      "processing file 2/20\n",
      "processing file 3/20\n",
      "processing file 4/20\n",
      "processing file 5/20\n",
      "processing file 6/20\n",
      "processing file 7/20\n",
      "processing file 8/20\n",
      "processing file 9/20\n",
      "processing file 10/20\n",
      "processing file 11/20\n",
      "processing file 12/20\n",
      "processing file 13/20\n",
      "processing file 14/20\n",
      "processing file 15/20\n",
      "processing file 16/20\n",
      "processing file 17/20\n",
      "processing file 18/20\n",
      "processing file 19/20\n",
      "processing file 20/20\n"
     ]
    }
   ],
   "source": [
    "abn_comps = []\n",
    "abn_tdmarks = []\n",
    "\n",
    "for i, f in enumerate(abn_xml_files, 1):\n",
    "    print(\"processing file {}/{}\".format(i, total_files))\n",
    "    for ev, elem in et.iterparse(f, events=(\"start\", \"end\")):\n",
    "        if (elem.tag == \"ABR\") and (ev == \"end\"):  # effectively this means that an ABR section has been fully read\n",
    "            for me in elem.findall(\"MainEntity\"):\n",
    "                for nen in me.findall(\"NonIndividualName\"):\n",
    "                    abn_comps.append(nen.find(\"NonIndividualNameText\").text.lower().strip())\n",
    "            for oe in elem.findall(\"MainEntity\"):\n",
    "                for nen in me.findall(\"NonIndividualName\"):\n",
    "                    abn_tdmarks.append(nen.find(\"NonIndividualNameText\").text.lower().strip())"
   ]
  },
  {
   "cell_type": "code",
   "execution_count": 33,
   "metadata": {},
   "outputs": [],
   "source": [
    "with open(\"abn_comps.txt\", \"w\") as f:\n",
    "    for co in set(abn_comps):\n",
    "        f.write(\"{}\\n\".format(co))"
   ]
  },
  {
   "cell_type": "code",
   "execution_count": 34,
   "metadata": {},
   "outputs": [],
   "source": [
    "with open(\"abn_tdmks.txt\", \"w\") as f:\n",
    "    for co in set(abn_tdmarks):\n",
    "        f.write(\"{}\\n\".format(co))"
   ]
  },
  {
   "cell_type": "code",
   "execution_count": null,
   "metadata": {
    "collapsed": true
   },
   "outputs": [],
   "source": []
  }
 ],
 "metadata": {
  "kernelspec": {
   "display_name": "Python 3",
   "language": "python",
   "name": "python3"
  },
  "language_info": {
   "codemirror_mode": {
    "name": "ipython",
    "version": 3
   },
   "file_extension": ".py",
   "mimetype": "text/x-python",
   "name": "python",
   "nbconvert_exporter": "python",
   "pygments_lexer": "ipython3",
   "version": "3.6.1"
  }
 },
 "nbformat": 4,
 "nbformat_minor": 2
}
